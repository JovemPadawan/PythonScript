{
 "cells": [
  {
   "cell_type": "code",
   "execution_count": 14,
   "id": "9e4a307c",
   "metadata": {},
   "outputs": [],
   "source": [
    "var = 4\n",
    "var2 = 3.5"
   ]
  },
  {
   "cell_type": "code",
   "execution_count": 15,
   "id": "925ca23f",
   "metadata": {},
   "outputs": [
    {
     "data": {
      "text/plain": [
       "int"
      ]
     },
     "execution_count": 15,
     "metadata": {},
     "output_type": "execute_result"
    }
   ],
   "source": [
    "type (var)"
   ]
  },
  {
   "cell_type": "code",
   "execution_count": 16,
   "id": "c2b5f7e5",
   "metadata": {},
   "outputs": [
    {
     "data": {
      "text/plain": [
       "float"
      ]
     },
     "execution_count": 16,
     "metadata": {},
     "output_type": "execute_result"
    }
   ],
   "source": [
    "type (var2)"
   ]
  },
  {
   "cell_type": "code",
   "execution_count": 18,
   "id": "9bf10666",
   "metadata": {},
   "outputs": [],
   "source": [
    "a = 5\n",
    "b = 1\n",
    "var = 'variavel'\n",
    "var1 = 'teste'\n",
    "\n"
   ]
  },
  {
   "cell_type": "code",
   "execution_count": 19,
   "id": "edc20d9b",
   "metadata": {},
   "outputs": [
    {
     "data": {
      "text/plain": [
       "'variavelteste'"
      ]
     },
     "execution_count": 19,
     "metadata": {},
     "output_type": "execute_result"
    }
   ],
   "source": [
    "var + var1 "
   ]
  },
  {
   "cell_type": "code",
   "execution_count": 20,
   "id": "7debb7c8",
   "metadata": {},
   "outputs": [
    {
     "ename": "TypeError",
     "evalue": "can only concatenate str (not \"int\") to str",
     "output_type": "error",
     "traceback": [
      "\u001b[1;31m---------------------------------------------------------------------------\u001b[0m",
      "\u001b[1;31mTypeError\u001b[0m                                 Traceback (most recent call last)",
      "Input \u001b[1;32mIn [20]\u001b[0m, in \u001b[0;36m<cell line: 3>\u001b[1;34m()\u001b[0m\n\u001b[0;32m      1\u001b[0m a \u001b[38;5;241m+\u001b[39m b\n\u001b[1;32m----> 3\u001b[0m \u001b[43mvar\u001b[49m\u001b[43m \u001b[49m\u001b[38;5;241;43m+\u001b[39;49m\u001b[43m \u001b[49m\u001b[43ma\u001b[49m\n",
      "\u001b[1;31mTypeError\u001b[0m: can only concatenate str (not \"int\") to str"
     ]
    }
   ],
   "source": [
    "a + b\n",
    "\n",
    "var + a"
   ]
  },
  {
   "cell_type": "code",
   "execution_count": 21,
   "id": "d03057d9",
   "metadata": {},
   "outputs": [
    {
     "name": "stdout",
     "output_type": "stream",
     "text": [
      "Whats your name?Joabe Veloso Beserra\n"
     ]
    }
   ],
   "source": [
    "nome = input('Whats your name?')\n"
   ]
  },
  {
   "cell_type": "raw",
   "id": "e28a6cf4",
   "metadata": {},
   "source": [
    "FilmeFav = input ('Whats your movie favorite?')\n",
    "print ('Thank You')"
   ]
  },
  {
   "cell_type": "code",
   "execution_count": null,
   "id": "0232ccc3",
   "metadata": {},
   "outputs": [],
   "source": []
  },
  {
   "cell_type": "code",
   "execution_count": 24,
   "id": "75629f9a",
   "metadata": {},
   "outputs": [
    {
     "name": "stdout",
     "output_type": "stream",
     "text": [
      "Whats your movie favorite?Monsters S.A\n",
      "Thank You\n"
     ]
    }
   ],
   "source": [
    "FilmeFav = input ('Whats your movie favorite?')\n",
    "print ('Thank You')"
   ]
  },
  {
   "cell_type": "code",
   "execution_count": 25,
   "id": "74ac709c",
   "metadata": {},
   "outputs": [
    {
     "name": "stdout",
     "output_type": "stream",
     "text": [
      "Whats your movie favorite?Monsters S.A\n",
      "FilmeFav\n"
     ]
    }
   ],
   "source": [
    "FilmeFav = input ('Whats your movie favorite?')\n",
    "print ('FilmeFav')"
   ]
  },
  {
   "cell_type": "code",
   "execution_count": 26,
   "id": "8cf770b5",
   "metadata": {},
   "outputs": [
    {
     "name": "stdout",
     "output_type": "stream",
     "text": [
      "Whats your movie favorite?Monsters S.A\n",
      "Monsters S.A\n"
     ]
    }
   ],
   "source": [
    "FilmeFav = input ('Whats your movie favorite?')\n",
    "print (FilmeFav)"
   ]
  },
  {
   "cell_type": "code",
   "execution_count": 27,
   "id": "a5723f6a",
   "metadata": {},
   "outputs": [
    {
     "ename": "SyntaxError",
     "evalue": "Missing parentheses in call to 'print'. Did you mean print(FilmeFav)? (1692782238.py, line 1)",
     "output_type": "error",
     "traceback": [
      "\u001b[1;36m  Input \u001b[1;32mIn [27]\u001b[1;36m\u001b[0m\n\u001b[1;33m    print FilmeFav\u001b[0m\n\u001b[1;37m          ^\u001b[0m\n\u001b[1;31mSyntaxError\u001b[0m\u001b[1;31m:\u001b[0m Missing parentheses in call to 'print'. Did you mean print(FilmeFav)?\n"
     ]
    }
   ],
   "source": [
    "print FilmeFav"
   ]
  },
  {
   "cell_type": "code",
   "execution_count": 28,
   "id": "387d1b90",
   "metadata": {},
   "outputs": [
    {
     "name": "stdout",
     "output_type": "stream",
     "text": [
      "Monsters S.A\n"
     ]
    }
   ],
   "source": [
    "print (FilmeFav)"
   ]
  },
  {
   "cell_type": "code",
   "execution_count": 33,
   "id": "04eff255",
   "metadata": {},
   "outputs": [
    {
     "name": "stdout",
     "output_type": "stream",
     "text": [
      "qual sua idade20\n"
     ]
    }
   ],
   "source": [
    "idade = int(input('qual sua idade'))\n"
   ]
  },
  {
   "cell_type": "code",
   "execution_count": 34,
   "id": "0bbfe33a",
   "metadata": {},
   "outputs": [
    {
     "data": {
      "text/plain": [
       "int"
      ]
     },
     "execution_count": 34,
     "metadata": {},
     "output_type": "execute_result"
    }
   ],
   "source": [
    "type (idade)"
   ]
  },
  {
   "cell_type": "code",
   "execution_count": 35,
   "id": "07cd8286",
   "metadata": {},
   "outputs": [
    {
     "name": "stdout",
     "output_type": "stream",
     "text": [
      "40\n"
     ]
    }
   ],
   "source": [
    "print (idade*2)"
   ]
  },
  {
   "cell_type": "code",
   "execution_count": 39,
   "id": "e9738389",
   "metadata": {},
   "outputs": [
    {
     "name": "stdout",
     "output_type": "stream",
     "text": [
      "esse bolsonaro é um merda!\n"
     ]
    }
   ],
   "source": [
    " variavel = 'bolsonaro'\n",
    "print('esse %s é um merda!'%variavel)"
   ]
  },
  {
   "cell_type": "code",
   "execution_count": null,
   "id": "bb2fe141",
   "metadata": {},
   "outputs": [],
   "source": []
  }
 ],
 "metadata": {
  "kernelspec": {
   "display_name": "Python 3 (ipykernel)",
   "language": "python",
   "name": "python3"
  },
  "language_info": {
   "codemirror_mode": {
    "name": "ipython",
    "version": 3
   },
   "file_extension": ".py",
   "mimetype": "text/x-python",
   "name": "python",
   "nbconvert_exporter": "python",
   "pygments_lexer": "ipython3",
   "version": "3.9.12"
  }
 },
 "nbformat": 4,
 "nbformat_minor": 5
}
